{
 "cells": [
  {
   "cell_type": "markdown",
   "metadata": {},
   "source": [
    "# Optimization Problems\n",
    "\n",
    "$$\\min x_1^2 + x_1 \\times x_2 $$\n",
    "Constraints:\n",
    "s.t.\n",
    "\n",
    "$$ x_1^3 + x_1 \\times x_2 = 100 \\\\ x_1^3 + x_2 \\ge 50 \\\\ -100 \\le x_1,x_2 \\le 100 $$"
   ]
  },
  {
   "cell_type": "code",
   "execution_count": 12,
   "metadata": {},
   "outputs": [],
   "source": [
    "import numpy as np\n",
    "from scipy.optimize import minimize\n",
    "\n",
    "def objective_fcn(x):\n",
    "    x1 = x[0]\n",
    "    x2 = x[1]\n",
    "    return x1**2 + x1 * x2\n",
    "\n",
    "def equality_constraint(x):\n",
    "    x1 = x[0]\n",
    "    x2 = x[1]\n",
    "    return x1**3 + x1 * x2 - 100 #bringing everything to the left hand side\n",
    "\n",
    "def inequality_constraint(x):\n",
    "    x1 = x[0]\n",
    "    x2 = x[1]\n",
    "    return x1**2 + x2 - 50\n",
    "\n",
    "bounds_x1 = (-100,100)\n",
    "bounds_x2 = (-100,100)\n",
    "\n",
    "bounds = (bounds_x1, bounds_x2)\n",
    "\n",
    "#dictionary of constraint\n",
    "constraint1 = {'type': 'eq', 'fun': equality_constraint} # equality type\n",
    "constraint2 = {'type': 'ineq', 'fun': inequality_constraint} # inequality\n",
    "\n",
    "constraint = [constraint1, constraint2] #putting the contraint in a list\n",
    "\n",
    "# initial value\n",
    "x0 = [1,1] # [1,1] falls between the bounds -100. 100 so it is reasonable\n",
    "\n",
    "\n"
   ]
  },
  {
   "cell_type": "markdown",
   "metadata": {},
   "source": [
    "scipy.optimize.minimize(func, x0, method, bounds, constraints)\n",
    "Minimization of scalar function of one or more variables, where\n",
    "\n",
    "fun - objective function to be minimized\n",
    "x0 - ndarray of initial guess\n",
    "method- type of solver\n",
    "bounds - bounds on variables\n",
    "constraints - list of constraint"
   ]
  },
  {
   "cell_type": "code",
   "execution_count": 13,
   "metadata": {},
   "outputs": [
    {
     "name": "stdout",
     "output_type": "stream",
     "text": [
      "     fun: 96.00000027660178\n",
      "     jac: array([50.00000095,  2.        ])\n",
      " message: 'Optimization terminated successfully.'\n",
      "    nfev: 42\n",
      "     nit: 10\n",
      "    njev: 10\n",
      "  status: 0\n",
      " success: True\n",
      "       x: array([ 1.99999997, 46.00000084])\n"
     ]
    }
   ],
   "source": [
    "result = minimize(objective_fcn, x0, method = 'SLSQP', bounds= bounds, constraints=constraint)\n",
    "\n",
    "print(result)"
   ]
  },
  {
   "cell_type": "markdown",
   "metadata": {},
   "source": [
    "Optimize Result\n",
    "Attributes:\n",
    "fun - Values of objective function\n",
    "jac - Jacobian\n",
    "message - Description of the cause of the termination\n",
    "nfev,njev - No. of evaluations of the objective functions and of its Jacobian\n",
    "\n",
    "nit - No. of iterations\n",
    "statis, success - Termination and exit status\n",
    "x - Solution of the optimization"
   ]
  },
  {
   "cell_type": "code",
   "execution_count": 17,
   "metadata": {},
   "outputs": [
    {
     "data": {
      "text/plain": [
       "96.00000027660178"
      ]
     },
     "execution_count": 17,
     "metadata": {},
     "output_type": "execute_result"
    }
   ],
   "source": [
    "result.fun # 96.00000027660178\n",
    "result.x #array([ 1.99999997, 46.00000084])"
   ]
  },
  {
   "cell_type": "markdown",
   "metadata": {},
   "source": [
    "# Using Lagrangian"
   ]
  },
  {
   "cell_type": "code",
   "execution_count": 18,
   "metadata": {},
   "outputs": [
    {
     "name": "stdout",
     "output_type": "stream",
     "text": [
      "     fun: 96.00000027660178\n",
      "     jac: array([50.00000095,  2.        ])\n",
      " message: 'Optimization terminated successfully.'\n",
      "    nfev: 42\n",
      "     nit: 10\n",
      "    njev: 10\n",
      "  status: 0\n",
      " success: True\n",
      "       x: array([ 1.99999997, 46.00000084])\n"
     ]
    }
   ],
   "source": [
    "objective_fcn = lambda x: x[0]**2 + x[0] * x[1]\n",
    "constraint = [{'type': 'eq', 'fun': lambda x: x[0]**3 + x[0] * x[1]-100},\n",
    "              {'type': 'ineq', 'fun': lambda x: x[0]**2 + x[1] - 50} ]\n",
    "\n",
    "x0 =[1,1]\n",
    "bounds =[(-100,100),(-100,100)]\n",
    "\n",
    "result = minimize(objective_fcn, x0, method = 'SLSQP', bounds= bounds, constraints=constraint)\n",
    "\n",
    "print(result)\n"
   ]
  }
 ],
 "metadata": {
  "kernelspec": {
   "display_name": "Python 3",
   "language": "python",
   "name": "python3"
  },
  "language_info": {
   "codemirror_mode": {
    "name": "ipython",
    "version": 3
   },
   "file_extension": ".py",
   "mimetype": "text/x-python",
   "name": "python",
   "nbconvert_exporter": "python",
   "pygments_lexer": "ipython3",
   "version": "3.7.6"
  }
 },
 "nbformat": 4,
 "nbformat_minor": 4
}
